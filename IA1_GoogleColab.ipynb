{
 "cells": [
  {
   "cell_type": "markdown",
   "id": "fa22f16c",
   "metadata": {},
   "source": [
    "# IA1 - Google Colab\n",
    "Proyecto práctico de Fernando David Méndez Viciedo\n",
    "\n",
    "Ejercicios básicos que muestran manejo de listas, bucles y funciones."
   ]
  },
  {
   "cell_type": "markdown",
   "id": "4b8fbf28",
   "metadata": {},
   "source": [
    "## Ejercicio 1: Listas y comprensión\n",
    "Mostrar los nombres con edad mayor a 25"
   ]
  },
  {
   "cell_type": "code",
   "execution_count": null,
   "id": "1404a325",
   "metadata": {},
   "outputs": [],
   "source": [
    "contactos = [('Ana', 23), ('Carlos', 30), ('María', 27), ('Luis', 22)]\n",
    "mayores_25 = [nombre for nombre, edad in contactos if edad > 25]\n",
    "print('Mayores de 25:', mayores_25)"
   ]
  },
  {
   "cell_type": "markdown",
   "id": "547540c9",
   "metadata": {},
   "source": [
    "## Ejercicio 2: Bucles y cálculo de media"
   ]
  },
  {
   "cell_type": "code",
   "execution_count": null,
   "id": "495b7f80",
   "metadata": {},
   "outputs": [],
   "source": [
    "numeros = [10, 25, 30, 5, 40]\n",
    "suma = 0\n",
    "for n in numeros:\n",
    "    suma += n\n",
    "media = suma / len(numeros)\n",
    "print('Suma =', suma, 'Media =', media)"
   ]
  },
  {
   "cell_type": "markdown",
   "id": "fd6d0687",
   "metadata": {},
   "source": [
    "## Ejercicio 3: Función de búsqueda de subcadena"
   ]
  },
  {
   "cell_type": "code",
   "execution_count": null,
   "id": "28f00364",
   "metadata": {},
   "outputs": [],
   "source": [
    "def buscar_subcadena(lista_palabras, sub):\n",
    "    resultado = []\n",
    "    for p in lista_palabras:\n",
    "        if sub.lower() in p.lower():\n",
    "            resultado.append(p)\n",
    "    return resultado\n",
    "\n",
    "palabras = ['Inteligencia', 'Artificial', 'Aprendizaje', 'Python', 'Prolog', 'Colab']\n",
    "print(buscar_subcadena(palabras, 'pro'))"
   ]
  },
  {
   "cell_type": "markdown",
   "id": "6f71f526",
   "metadata": {},
   "source": [
    "## Ejercicio 4: Heurística simple para evaluar síntomas"
   ]
  },
  {
   "cell_type": "code",
   "execution_count": null,
   "id": "2aefc987",
   "metadata": {},
   "outputs": [],
   "source": [
    "def evaluar_sintomas(sintomas):\n",
    "    if 'fiebre' in sintomas and 'dificultad_respiratoria' in sintomas:\n",
    "        return 'Alta probabilidad - Consulte al medico inmediatamente.'\n",
    "    if 'fiebre' in sintomas and 'tos' in sintomas:\n",
    "        return 'Probabilidad moderada - reposo y control de fiebre.'\n",
    "    return 'Sintomas leves - observar y descansar.'\n",
    "\n",
    "print(evaluar_sintomas(['tos', 'fiebre']))\n",
    "print(evaluar_sintomas(['fiebre', 'dificultad_respiratoria']))"
   ]
  }
 ],
 "metadata": {},
 "nbformat": 4,
 "nbformat_minor": 5
}
